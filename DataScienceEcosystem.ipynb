{
 "cells": [
  {
   "cell_type": "markdown",
   "id": "8d6b6728-2096-4928-80ba-b52029ef5056",
   "metadata": {},
   "source": [
    "# Data Science Tools and Ecosystem"
   ]
  },
  {
   "cell_type": "markdown",
   "id": "eb4d33b6-33cc-4d81-8512-c785b23d4078",
   "metadata": {},
   "source": [
    "In this notbook, Data science and tools and ecosystem are summarized."
   ]
  },
  {
   "cell_type": "markdown",
   "id": "1ddcdc72-3779-4789-8485-dd5000698de0",
   "metadata": {},
   "source": [
    "Some of popular languages that data science use are:\n",
    "1. Python\n",
    "2. R\n",
    "3. SQL\n",
    "4. Scala\n",
    "5. Julia"
   ]
  },
  {
   "cell_type": "markdown",
   "id": "785c3384-0598-4d4b-8db5-f4d2c10dba1e",
   "metadata": {},
   "source": [
    "Some of commonly used libraries used by data science include:\n",
    "1. Pandas\n",
    "2. Numpy\n",
    "3. Matplotlip\n",
    "4. ggplot2\n",
    "5. dplyr\n",
    "6. caret"
   ]
  },
  {
   "cell_type": "markdown",
   "id": "3b3a3fff-707c-45f1-8902-b3130821c7ed",
   "metadata": {},
   "source": [
    "| Data Science Tools |\n",
    "|--------------------|\n",
    "| Jupyter Notebook   |\n",
    "| Apache Spark       |\n",
    "| TensorFlow         |"
   ]
  },
  {
   "cell_type": "markdown",
   "id": "ed0cf0c0-e818-408f-85d9-bd256532192a",
   "metadata": {},
   "source": [
    "### Below are few examples of evaluating arithmatic experssions in Python:"
   ]
  },
  {
   "cell_type": "code",
   "execution_count": 14,
   "id": "3222abaa-afc0-4f24-a66e-a8b59c0c5f80",
   "metadata": {},
   "outputs": [
    {
     "data": {
      "text/plain": [
       "17"
      ]
     },
     "execution_count": 14,
     "metadata": {},
     "output_type": "execute_result"
    }
   ],
   "source": [
    "# this is a simple arithmathic expression to mutiply then add integers.\n",
    "(3*4)+5"
   ]
  },
  {
   "cell_type": "code",
   "execution_count": 18,
   "id": "bb940778-ab6f-415c-97c1-322ebe126b1d",
   "metadata": {},
   "outputs": [
    {
     "data": {
      "text/plain": [
       "3.3333333333333335"
      ]
     },
     "execution_count": 18,
     "metadata": {},
     "output_type": "execute_result"
    }
   ],
   "source": [
    "# this will convert 200 minuts too hours by diving by 60.\n",
    "Hours = 200/60\n",
    "Hours"
   ]
  },
  {
   "cell_type": "markdown",
   "id": "9fc01958-fb42-424c-9429-e2c2da81b83a",
   "metadata": {},
   "source": [
    "### List popular languages for data science\n",
    "- **Python**\n",
    "- **R**\n",
    "- **SQL**\n"
   ]
  },
  {
   "cell_type": "markdown",
   "id": "596959b9-0c6e-4dbc-9a8f-237190db9b4c",
   "metadata": {},
   "source": [
    "## Author\n",
    "SeyedMohammad Vahedi"
   ]
  },
  {
   "cell_type": "code",
   "execution_count": null,
   "id": "79676fbd-e042-422f-b6a7-7c31d864bd39",
   "metadata": {},
   "outputs": [],
   "source": []
  }
 ],
 "metadata": {
  "kernelspec": {
   "display_name": "Python 3 (ipykernel)",
   "language": "python",
   "name": "python3"
  },
  "language_info": {
   "codemirror_mode": {
    "name": "ipython",
    "version": 3
   },
   "file_extension": ".py",
   "mimetype": "text/x-python",
   "name": "python",
   "nbconvert_exporter": "python",
   "pygments_lexer": "ipython3",
   "version": "3.12.4"
  }
 },
 "nbformat": 4,
 "nbformat_minor": 5
}
